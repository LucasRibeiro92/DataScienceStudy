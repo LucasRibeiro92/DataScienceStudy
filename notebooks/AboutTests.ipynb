{
 "cells": [
  {
   "cell_type": "code",
   "execution_count": null,
   "id": "initial_id",
   "metadata": {
    "collapsed": true
   },
   "outputs": [],
   "source": [
    ""
   ]
  },
  {
   "metadata": {},
   "cell_type": "markdown",
   "source": [
    "<h2>Testes</h2>\n",
    "<p>\n",
    "    <h3>Frameworks de testes em Python:</h3>\n",
    "    <p>unittest (embutido na biblioteca padrão)\n",
    "        <ul>\n",
    "            <li>Inspirado no JUnit do Java.</li>\n",
    "            <li>Organiza testes em classes.</li>\n",
    "            <li>Pode ser executado em notebooks ou arquivos python</li>\n",
    "        </ul>\n",
    "    </p>\n",
    "    <p> pytest\n",
    "        <ul>\n",
    "            <li>Simples, poderoso e amplamente usado.</li>\n",
    "            <li>Usa funções simples com assert.</li>\n",
    "            <li>Ótimo para testes em ciência de dados e notebooks (com o plugin ipython).</li>\n",
    "        </ul>\n",
    "    </p>\n",
    "\n",
    "doctest\n",
    "\n",
    "Executa testes embutidos em docstrings.\n",
    "Bom para funções simples com exemplos.\n",
    "\n",
    "nose2\n",
    "\n",
    "Sucessor do nose, extensível, compatível com unittest.\n",
    "\n",
    "hypothesis\n",
    "\n",
    "Testes baseados em propriedades e geração automática de dados.\n",
    "Muito útil para explorar comportamentos inesperados com dados.</p>\n",
    "\n",
    "📊 Eles são usados em notebooks e ciência de dados?\n",
    "✅ Sim, são usados. Especialmente:\n",
    "\n",
    "pytest e unittest são compatíveis com notebooks Jupyter (você pode usar mágica %run, %pytest, ou integrar com nbval).\n",
    "\n",
    "Cientistas de dados usam testes para:\n",
    "\n",
    "Verificar a integridade de dados.\n",
    "\n",
    "Validar etapas de pré-processamento.\n",
    "\n",
    "Garantir a reprodutibilidade de modelos.\n",
    "\n",
    "Frameworks como pytest são úteis para escrever testes leves diretamente em notebooks, além de scripts."
   ],
   "id": "94b355c4c3ced9d4"
  }
 ],
 "metadata": {
  "kernelspec": {
   "display_name": "Python 3",
   "language": "python",
   "name": "python3"
  },
  "language_info": {
   "codemirror_mode": {
    "name": "ipython",
    "version": 2
   },
   "file_extension": ".py",
   "mimetype": "text/x-python",
   "name": "python",
   "nbconvert_exporter": "python",
   "pygments_lexer": "ipython2",
   "version": "2.7.6"
  }
 },
 "nbformat": 4,
 "nbformat_minor": 5
}
