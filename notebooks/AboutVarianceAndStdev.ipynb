{
 "cells": [
  {
   "cell_type": "code",
   "execution_count": null,
   "id": "initial_id",
   "metadata": {
    "collapsed": true
   },
   "outputs": [],
   "source": [
    "✅ 1. Média (ou valor médio)\n",
    "Representa o centro dos dados.\n",
    "\n",
    "Se todos os valores fossem iguais à média, o conjunto teria o mesmo “peso total”.\n",
    "\n",
    "🧠 Exemplo: Se a média de salários é R$ 3.000, significa que, em média, cada pessoa ganha isso — mas não quer dizer que todo mundo ganhe isso.\n",
    "\n",
    "✅ 2. Variância\n",
    "Mede o quanto os valores variam em relação à média.\n",
    "\n",
    "Quanto maior a variância, mais espalhados estão os dados.\n",
    "\n",
    "É o quadrado do desvio padrão, então não está na mesma unidade dos dados (ex: se os dados são em R$, a variância é em R$²).\n",
    "\n",
    "✅ 3. Desvio Padrão\n",
    "É a raiz quadrada da variância.\n",
    "\n",
    "Está na mesma unidade dos dados, o que facilita a interpretação.\n",
    "\n",
    "Diz o quanto, em média, os valores estão distantes da média.\n",
    "\n",
    "🧠 Interpretação prática:\n",
    "\n",
    "Se a média é 100 e o desvio padrão é 5, a maioria dos valores está entre 95 e 105.\n",
    "\n",
    "Se o desvio padrão fosse 30, os valores estariam entre 70 e 130, ou seja, bem mais espalhados.\n",
    "\n",
    "📌 Resumo visual:\n",
    "Cenário\tMédia\tDesvio Padrão\tInterpretação\n",
    "Todos os dados parecidos\t50\t2\tDados bem próximos entre si\n",
    "Dados muito variados\t50\t20\tDados muito espalhados, há extremos\n",
    "Desvio padrão = 0\t50\t0\tTodos os valores são exatamente 50\n"
   ]
  }
 ],
 "metadata": {
  "kernelspec": {
   "display_name": "Python 3",
   "language": "python",
   "name": "python3"
  },
  "language_info": {
   "codemirror_mode": {
    "name": "ipython",
    "version": 2
   },
   "file_extension": ".py",
   "mimetype": "text/x-python",
   "name": "python",
   "nbconvert_exporter": "python",
   "pygments_lexer": "ipython2",
   "version": "2.7.6"
  }
 },
 "nbformat": 4,
 "nbformat_minor": 5
}
